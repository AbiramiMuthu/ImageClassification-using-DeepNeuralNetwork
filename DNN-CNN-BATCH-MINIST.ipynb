{
 "cells": [
  {
   "cell_type": "markdown",
   "metadata": {
    "executionInfo": {
     "elapsed": 4708,
     "status": "ok",
     "timestamp": 1614945260959,
     "user": {
      "displayName": "Abirami Muthu",
      "photoUrl": "",
      "userId": "12714011449706528785"
     },
     "user_tz": -330
    },
    "id": "XjcLrMQiErUg"
   },
   "source": [
    "# Import Libraries"
   ]
  },
  {
   "cell_type": "code",
   "execution_count": null,
   "metadata": {},
   "outputs": [],
   "source": [
    "import torch\n",
    "import matplotlib.pyplot as plt\n",
    "import numpy as np\n",
    "import torchvision #library to deal with computer vision\n",
    "import torchvision.transforms as transforms\n",
    "import torch.nn as nn\n",
    "import torch.optim as opt"
   ]
  },
  {
   "cell_type": "markdown",
   "metadata": {},
   "source": [
    "# Download MINIST train and test dataset from Torchvision "
   ]
  },
  {
   "cell_type": "code",
   "execution_count": null,
   "metadata": {
    "colab": {
     "base_uri": "https://localhost:8080/",
     "height": 369,
     "referenced_widgets": [
      "e60820d8ca1141309f4cc4de4a4ea139",
      "31a3a0cc7dbc4234a46dd5e0db6cbc11",
      "f3489831547c46ce82e90e01c60ba7b0",
      "67b05356c93b47bda755183d81ed0a6a",
      "32407a670ba8489ca7d83d5d31930b0d",
      "2b0961b528dc47ae89e64bbd67ba9bf3",
      "2baef0f52c4a4efdab407c61137e839a",
      "db206ee261304c6581e9223f6e1f8782",
      "1bb7170568784d82b5030e715799b086",
      "6aee42d98a864fe9b2cd897a3b4eb90a",
      "6ea14b3d59d44fab980ba6454703ead9",
      "21f0794a5d154fd29382a7fd1d3b085e",
      "cad14b7943534fa49577d0b4674fdd22",
      "965789ad0f484f619689005c6d361f8e",
      "5d76312634d34c98af06706b787b8626",
      "12c76d88fb19465d93b6369974dfea34",
      "13f175222f9348eea0c5fb5c977d98c3",
      "b421ec9455504efab0b7c24171814d80",
      "0c0b5e06e6be42a69461e4c528476438",
      "f640766a6ff849588c7ef1451efd8307",
      "0b20b8d4055a4eb4b32ff3f25a266d6c",
      "14ab70b397f94c4fadaa97f47d34e9a8",
      "641332430fdf40d28547b30c4c3a7e78",
      "8fab47df8a5346c7a3c183e50d1d085a",
      "17f7b40517c141f69b23b3d25ecaf743",
      "f8d5252d5bd947418bdcbb32fef56150",
      "f9a60d7629d04429ac0aa551de204ef1",
      "1ad5175c2a054043991c77f8ca1f0fed",
      "adeeb111630a490383ca0a25a76c4345",
      "ba6e1e27ad4740159c13eb52502b9c7b",
      "0ec1f0a1f0e848b891d5078834eee97b",
      "d4a778bbc21d4955831f5c17f8411d9e"
     ]
    },
    "executionInfo": {
     "elapsed": 8556,
     "status": "ok",
     "timestamp": 1614945264816,
     "user": {
      "displayName": "Abirami Muthu",
      "photoUrl": "",
      "userId": "12714011449706528785"
     },
     "user_tz": -330
    },
    "id": "-_oSLF6kF3O-",
    "outputId": "1992f368-0b68-4bf7-f7c8-60ac90761bef"
   },
   "outputs": [],
   "source": [
    "train_data = torchvision.datasets.MNIST(root='data', train=True,\n",
    "                                   download=True, transform=transforms.ToTensor())\n",
    "test_data = torchvision.datasets.MNIST(root='data', train=False,\n",
    "                                  download=False, transform=transforms.ToTensor())"
   ]
  },
  {
   "cell_type": "markdown",
   "metadata": {},
   "source": [
    "# Load data in dataloaders to process the data in batches"
   ]
  },
  {
   "cell_type": "code",
   "execution_count": null,
   "metadata": {
    "executionInfo": {
     "elapsed": 8547,
     "status": "ok",
     "timestamp": 1614945264818,
     "user": {
      "displayName": "Abirami Muthu",
      "photoUrl": "",
      "userId": "12714011449706528785"
     },
     "user_tz": -330
    },
    "id": "TsYuY0adI4WU"
   },
   "outputs": [],
   "source": [
    "trainloader=torch.utils.data.DataLoader(train_data,batch_size=4,shuffle=True)"
   ]
  },
  {
   "cell_type": "code",
   "execution_count": null,
   "metadata": {
    "colab": {
     "base_uri": "https://localhost:8080/"
    },
    "executionInfo": {
     "elapsed": 8542,
     "status": "ok",
     "timestamp": 1614945264820,
     "user": {
      "displayName": "Abirami Muthu",
      "photoUrl": "",
      "userId": "12714011449706528785"
     },
     "user_tz": -330
    },
    "id": "QhoViVpiJJBf",
    "outputId": "4ca32a9a-9281-4223-c0ca-e086fa5fb783"
   },
   "outputs": [],
   "source": [
    "dataiter=iter(trainloader)\n",
    "\n",
    "#every next() will give an instance of 4 images and its labels\n",
    "images,labels=dataiter.next()\n",
    "\n",
    "#no.of.images,RGB(size),image dim\n",
    "print(images.shape)\n",
    "#class(batchsize)\n",
    "print(labels.shape)\n",
    "#RGB(size),image dim\n",
    "print(images[0].shape)\n",
    "#class of 1st image\n",
    "print(labels[0].item())"
   ]
  },
  {
   "cell_type": "code",
   "execution_count": null,
   "metadata": {
    "colab": {
     "base_uri": "https://localhost:8080/",
     "height": 139
    },
    "executionInfo": {
     "elapsed": 8943,
     "status": "ok",
     "timestamp": 1614945265236,
     "user": {
      "displayName": "Abirami Muthu",
      "photoUrl": "",
      "userId": "12714011449706528785"
     },
     "user_tz": -330
    },
    "id": "qTnFVx1-JPdV",
    "outputId": "35302dab-4bf1-41b1-8d11-aef324731e16"
   },
   "outputs": [],
   "source": [
    "img=images[0]\n",
    "#convert tensor to numpy\n",
    "npimg=img.numpy()\n",
    "\n",
    "#plot it using imshow\n",
    "plt.figure(figsize=(1,1))\n",
    "plt.imshow(npimg.reshape(28,28))\n",
    "plt.show()"
   ]
  },
  {
   "cell_type": "markdown",
   "metadata": {},
   "source": [
    "# class creation with Forward Layers"
   ]
  },
  {
   "cell_type": "code",
   "execution_count": null,
   "metadata": {
    "executionInfo": {
     "elapsed": 8934,
     "status": "ok",
     "timestamp": 1614945265239,
     "user": {
      "displayName": "Abirami Muthu",
      "photoUrl": "",
      "userId": "12714011449706528785"
     },
     "user_tz": -330
    },
    "id": "7Do0_N2HMFts"
   },
   "outputs": [],
   "source": [
    "class Net(nn.Module):\n",
    "  def __init__(self):\n",
    "    super().__init__()\n",
    "    self.classifier=nn.Sequential(nn.Linear(784,48),\n",
    "                                  nn.BatchNorm1d(48),\n",
    "                                  nn.Tanh(),\n",
    "                                  nn.Linear(48,24),\n",
    "                                  nn.BatchNorm1d(24),\n",
    "                                  nn.Tanh(),\n",
    "                                  nn.Linear(24,10))\n",
    "  def forward(self,x):\n",
    "    x=x.view(x.size(0),-1)\n",
    "    return self.classifier(x)\n",
    "\n",
    "    \n"
   ]
  },
  {
   "cell_type": "code",
   "execution_count": null,
   "metadata": {
    "executionInfo": {
     "elapsed": 8928,
     "status": "ok",
     "timestamp": 1614945265241,
     "user": {
      "displayName": "Abirami Muthu",
      "photoUrl": "",
      "userId": "12714011449706528785"
     },
     "user_tz": -330
    },
    "id": "nxgTWxdEOylz"
   },
   "outputs": [],
   "source": [
    "trainloader=torch.utils.data.DataLoader(train_data,batch_size=512,shuffle=True)\n",
    "testloader=torch.utils.data.DataLoader(test_data,batch_size=512,shuffle=False)"
   ]
  },
  {
   "cell_type": "markdown",
   "metadata": {
    "executionInfo": {
     "elapsed": 8926,
     "status": "ok",
     "timestamp": 1614945265242,
     "user": {
      "displayName": "Abirami Muthu",
      "photoUrl": "",
      "userId": "12714011449706528785"
     },
     "user_tz": -330
    },
    "id": "vM4BAjrNO9UT"
   },
   "source": [
    "# Moving the Data to GPU"
   ]
  },
  {
   "cell_type": "code",
   "execution_count": null,
   "metadata": {
    "executionInfo": {
     "elapsed": 938,
     "status": "ok",
     "timestamp": 1614946058517,
     "user": {
      "displayName": "Abirami Muthu",
      "photoUrl": "",
      "userId": "12714011449706528785"
     },
     "user_tz": -330
    },
    "id": "tUfHJVneI2wz"
   },
   "outputs": [],
   "source": [
    "# In google colab Edit->Notebook settings->HardwareAccelerator->GPU\n",
    "\n",
    "device=torch.device('cuda:0')\n",
    "model=Net().to(device)\n",
    "fn=opt.SGD(model.parameters(),lr=0.01)\n",
    "loss_fn=nn.CrossEntropyLoss()\n",
    "\n"
   ]
  },
  {
   "cell_type": "code",
   "execution_count": null,
   "metadata": {
    "executionInfo": {
     "elapsed": 1135,
     "status": "ok",
     "timestamp": 1614946064145,
     "user": {
      "displayName": "Abirami Muthu",
      "photoUrl": "",
      "userId": "12714011449706528785"
     },
     "user_tz": -330
    },
    "id": "oIfI731ZQRG7"
   },
   "outputs": [],
   "source": [
    "def evaluate(dataloader):\n",
    "  total,correct=0,0\n",
    "  for loader in dataloader:\n",
    "    images,labels=loader\n",
    "    images=images.to(device)\n",
    "    labels=labels.to(device)\n",
    "    output=model(images)\n",
    "    _,pred=torch.max(output.data,1)\n",
    "    total+=labels.size(0)\n",
    "    correct+=(pred==labels).sum().item()\n",
    "  return 100*correct/total"
   ]
  },
  {
   "cell_type": "markdown",
   "metadata": {},
   "source": [
    "# Training "
   ]
  },
  {
   "cell_type": "code",
   "execution_count": null,
   "metadata": {
    "executionInfo": {
     "elapsed": 1169,
     "status": "ok",
     "timestamp": 1614946071434,
     "user": {
      "displayName": "Abirami Muthu",
      "photoUrl": "",
      "userId": "12714011449706528785"
     },
     "user_tz": -330
    },
    "id": "vf99TZ0MQZDL"
   },
   "outputs": [],
   "source": [
    "epochs=10\n",
    "\n",
    "def train(model,loss_fn,Optimizer,device):\n",
    "  lossarr=[]\n",
    "  for epoch in range(epochs):\n",
    "    for loader in trainloader:\n",
    "      Optimizer.zero_grad()\n",
    "\n",
    "      images,labels=loader\n",
    "      images=images.to(device)\n",
    "      labels=labels.to(device)\n",
    "\n",
    "   \n",
    "      outputs=model(images)\n",
    "      loss=loss_fn(outputs,labels)\n",
    "      loss.backward()\n",
    "      Optimizer.step()\n",
    "    \n",
    "    lossarr.append(loss)\n",
    "    print('epoch:%d,Train accuracy:%0.2f,Test accuracy:%0.2f' %(epoch,evaluate(trainloader),evaluate(testloader)))\n",
    "\n",
    "  plt.plot(lossarr)\n",
    "  plt.show()"
   ]
  },
  {
   "cell_type": "code",
   "execution_count": null,
   "metadata": {
    "colab": {
     "base_uri": "https://localhost:8080/",
     "height": 435
    },
    "executionInfo": {
     "elapsed": 156814,
     "status": "ok",
     "timestamp": 1614946232949,
     "user": {
      "displayName": "Abirami Muthu",
      "photoUrl": "",
      "userId": "12714011449706528785"
     },
     "user_tz": -330
    },
    "id": "EwZnox5rQhkn",
    "outputId": "efe5361b-4a6e-4565-854e-fd4a9d8e27ce"
   },
   "outputs": [],
   "source": [
    "train(model,loss_fn,fn,device)"
   ]
  }
 ],
 "metadata": {
  "accelerator": "GPU",
  "colab": {
   "authorship_tag": "ABX9TyMfzLxmsnwtwa/fnTh+qdBO",
   "collapsed_sections": [],
   "name": "DNN-CNN-BATCH-MINIST.ipynb",
   "provenance": []
  },
  "kernelspec": {
   "display_name": "Python 3",
   "language": "python",
   "name": "python3"
  },
  "language_info": {
   "codemirror_mode": {
    "name": "ipython",
    "version": 3
   },
   "file_extension": ".py",
   "mimetype": "text/x-python",
   "name": "python",
   "nbconvert_exporter": "python",
   "pygments_lexer": "ipython3",
   "version": "3.8.8"
  },
  "widgets": {
   "application/vnd.jupyter.widget-state+json": {
    "0b20b8d4055a4eb4b32ff3f25a266d6c": {
     "model_module": "@jupyter-widgets/controls",
     "model_name": "ProgressStyleModel",
     "state": {
      "_model_module": "@jupyter-widgets/controls",
      "_model_module_version": "1.5.0",
      "_model_name": "ProgressStyleModel",
      "_view_count": null,
      "_view_module": "@jupyter-widgets/base",
      "_view_module_version": "1.2.0",
      "_view_name": "StyleView",
      "bar_color": null,
      "description_width": "initial"
     }
    },
    "0c0b5e06e6be42a69461e4c528476438": {
     "model_module": "@jupyter-widgets/controls",
     "model_name": "FloatProgressModel",
     "state": {
      "_dom_classes": [],
      "_model_module": "@jupyter-widgets/controls",
      "_model_module_version": "1.5.0",
      "_model_name": "FloatProgressModel",
      "_view_count": null,
      "_view_module": "@jupyter-widgets/controls",
      "_view_module_version": "1.5.0",
      "_view_name": "ProgressView",
      "bar_style": "success",
      "description": "",
      "description_tooltip": null,
      "layout": "IPY_MODEL_14ab70b397f94c4fadaa97f47d34e9a8",
      "max": 1,
      "min": 0,
      "orientation": "horizontal",
      "style": "IPY_MODEL_0b20b8d4055a4eb4b32ff3f25a266d6c",
      "value": 1
     }
    },
    "0ec1f0a1f0e848b891d5078834eee97b": {
     "model_module": "@jupyter-widgets/controls",
     "model_name": "DescriptionStyleModel",
     "state": {
      "_model_module": "@jupyter-widgets/controls",
      "_model_module_version": "1.5.0",
      "_model_name": "DescriptionStyleModel",
      "_view_count": null,
      "_view_module": "@jupyter-widgets/base",
      "_view_module_version": "1.2.0",
      "_view_name": "StyleView",
      "description_width": ""
     }
    },
    "12c76d88fb19465d93b6369974dfea34": {
     "model_module": "@jupyter-widgets/base",
     "model_name": "LayoutModel",
     "state": {
      "_model_module": "@jupyter-widgets/base",
      "_model_module_version": "1.2.0",
      "_model_name": "LayoutModel",
      "_view_count": null,
      "_view_module": "@jupyter-widgets/base",
      "_view_module_version": "1.2.0",
      "_view_name": "LayoutView",
      "align_content": null,
      "align_items": null,
      "align_self": null,
      "border": null,
      "bottom": null,
      "display": null,
      "flex": null,
      "flex_flow": null,
      "grid_area": null,
      "grid_auto_columns": null,
      "grid_auto_flow": null,
      "grid_auto_rows": null,
      "grid_column": null,
      "grid_gap": null,
      "grid_row": null,
      "grid_template_areas": null,
      "grid_template_columns": null,
      "grid_template_rows": null,
      "height": null,
      "justify_content": null,
      "justify_items": null,
      "left": null,
      "margin": null,
      "max_height": null,
      "max_width": null,
      "min_height": null,
      "min_width": null,
      "object_fit": null,
      "object_position": null,
      "order": null,
      "overflow": null,
      "overflow_x": null,
      "overflow_y": null,
      "padding": null,
      "right": null,
      "top": null,
      "visibility": null,
      "width": null
     }
    },
    "13f175222f9348eea0c5fb5c977d98c3": {
     "model_module": "@jupyter-widgets/controls",
     "model_name": "HBoxModel",
     "state": {
      "_dom_classes": [],
      "_model_module": "@jupyter-widgets/controls",
      "_model_module_version": "1.5.0",
      "_model_name": "HBoxModel",
      "_view_count": null,
      "_view_module": "@jupyter-widgets/controls",
      "_view_module_version": "1.5.0",
      "_view_name": "HBoxView",
      "box_style": "",
      "children": [
       "IPY_MODEL_0c0b5e06e6be42a69461e4c528476438",
       "IPY_MODEL_f640766a6ff849588c7ef1451efd8307"
      ],
      "layout": "IPY_MODEL_b421ec9455504efab0b7c24171814d80"
     }
    },
    "14ab70b397f94c4fadaa97f47d34e9a8": {
     "model_module": "@jupyter-widgets/base",
     "model_name": "LayoutModel",
     "state": {
      "_model_module": "@jupyter-widgets/base",
      "_model_module_version": "1.2.0",
      "_model_name": "LayoutModel",
      "_view_count": null,
      "_view_module": "@jupyter-widgets/base",
      "_view_module_version": "1.2.0",
      "_view_name": "LayoutView",
      "align_content": null,
      "align_items": null,
      "align_self": null,
      "border": null,
      "bottom": null,
      "display": null,
      "flex": null,
      "flex_flow": null,
      "grid_area": null,
      "grid_auto_columns": null,
      "grid_auto_flow": null,
      "grid_auto_rows": null,
      "grid_column": null,
      "grid_gap": null,
      "grid_row": null,
      "grid_template_areas": null,
      "grid_template_columns": null,
      "grid_template_rows": null,
      "height": null,
      "justify_content": null,
      "justify_items": null,
      "left": null,
      "margin": null,
      "max_height": null,
      "max_width": null,
      "min_height": null,
      "min_width": null,
      "object_fit": null,
      "object_position": null,
      "order": null,
      "overflow": null,
      "overflow_x": null,
      "overflow_y": null,
      "padding": null,
      "right": null,
      "top": null,
      "visibility": null,
      "width": null
     }
    },
    "17f7b40517c141f69b23b3d25ecaf743": {
     "model_module": "@jupyter-widgets/controls",
     "model_name": "HBoxModel",
     "state": {
      "_dom_classes": [],
      "_model_module": "@jupyter-widgets/controls",
      "_model_module_version": "1.5.0",
      "_model_name": "HBoxModel",
      "_view_count": null,
      "_view_module": "@jupyter-widgets/controls",
      "_view_module_version": "1.5.0",
      "_view_name": "HBoxView",
      "box_style": "",
      "children": [
       "IPY_MODEL_f9a60d7629d04429ac0aa551de204ef1",
       "IPY_MODEL_1ad5175c2a054043991c77f8ca1f0fed"
      ],
      "layout": "IPY_MODEL_f8d5252d5bd947418bdcbb32fef56150"
     }
    },
    "1ad5175c2a054043991c77f8ca1f0fed": {
     "model_module": "@jupyter-widgets/controls",
     "model_name": "HTMLModel",
     "state": {
      "_dom_classes": [],
      "_model_module": "@jupyter-widgets/controls",
      "_model_module_version": "1.5.0",
      "_model_name": "HTMLModel",
      "_view_count": null,
      "_view_module": "@jupyter-widgets/controls",
      "_view_module_version": "1.5.0",
      "_view_name": "HTMLView",
      "description": "",
      "description_tooltip": null,
      "layout": "IPY_MODEL_d4a778bbc21d4955831f5c17f8411d9e",
      "placeholder": "​",
      "style": "IPY_MODEL_0ec1f0a1f0e848b891d5078834eee97b",
      "value": " 8192/? [00:01&lt;00:00, 6286.90it/s]"
     }
    },
    "1bb7170568784d82b5030e715799b086": {
     "model_module": "@jupyter-widgets/controls",
     "model_name": "HBoxModel",
     "state": {
      "_dom_classes": [],
      "_model_module": "@jupyter-widgets/controls",
      "_model_module_version": "1.5.0",
      "_model_name": "HBoxModel",
      "_view_count": null,
      "_view_module": "@jupyter-widgets/controls",
      "_view_module_version": "1.5.0",
      "_view_name": "HBoxView",
      "box_style": "",
      "children": [
       "IPY_MODEL_6ea14b3d59d44fab980ba6454703ead9",
       "IPY_MODEL_21f0794a5d154fd29382a7fd1d3b085e"
      ],
      "layout": "IPY_MODEL_6aee42d98a864fe9b2cd897a3b4eb90a"
     }
    },
    "21f0794a5d154fd29382a7fd1d3b085e": {
     "model_module": "@jupyter-widgets/controls",
     "model_name": "HTMLModel",
     "state": {
      "_dom_classes": [],
      "_model_module": "@jupyter-widgets/controls",
      "_model_module_version": "1.5.0",
      "_model_name": "HTMLModel",
      "_view_count": null,
      "_view_module": "@jupyter-widgets/controls",
      "_view_module_version": "1.5.0",
      "_view_name": "HTMLView",
      "description": "",
      "description_tooltip": null,
      "layout": "IPY_MODEL_12c76d88fb19465d93b6369974dfea34",
      "placeholder": "​",
      "style": "IPY_MODEL_5d76312634d34c98af06706b787b8626",
      "value": " 32768/? [00:02&lt;00:00, 12219.77it/s]"
     }
    },
    "2b0961b528dc47ae89e64bbd67ba9bf3": {
     "model_module": "@jupyter-widgets/base",
     "model_name": "LayoutModel",
     "state": {
      "_model_module": "@jupyter-widgets/base",
      "_model_module_version": "1.2.0",
      "_model_name": "LayoutModel",
      "_view_count": null,
      "_view_module": "@jupyter-widgets/base",
      "_view_module_version": "1.2.0",
      "_view_name": "LayoutView",
      "align_content": null,
      "align_items": null,
      "align_self": null,
      "border": null,
      "bottom": null,
      "display": null,
      "flex": null,
      "flex_flow": null,
      "grid_area": null,
      "grid_auto_columns": null,
      "grid_auto_flow": null,
      "grid_auto_rows": null,
      "grid_column": null,
      "grid_gap": null,
      "grid_row": null,
      "grid_template_areas": null,
      "grid_template_columns": null,
      "grid_template_rows": null,
      "height": null,
      "justify_content": null,
      "justify_items": null,
      "left": null,
      "margin": null,
      "max_height": null,
      "max_width": null,
      "min_height": null,
      "min_width": null,
      "object_fit": null,
      "object_position": null,
      "order": null,
      "overflow": null,
      "overflow_x": null,
      "overflow_y": null,
      "padding": null,
      "right": null,
      "top": null,
      "visibility": null,
      "width": null
     }
    },
    "2baef0f52c4a4efdab407c61137e839a": {
     "model_module": "@jupyter-widgets/controls",
     "model_name": "DescriptionStyleModel",
     "state": {
      "_model_module": "@jupyter-widgets/controls",
      "_model_module_version": "1.5.0",
      "_model_name": "DescriptionStyleModel",
      "_view_count": null,
      "_view_module": "@jupyter-widgets/base",
      "_view_module_version": "1.2.0",
      "_view_name": "StyleView",
      "description_width": ""
     }
    },
    "31a3a0cc7dbc4234a46dd5e0db6cbc11": {
     "model_module": "@jupyter-widgets/base",
     "model_name": "LayoutModel",
     "state": {
      "_model_module": "@jupyter-widgets/base",
      "_model_module_version": "1.2.0",
      "_model_name": "LayoutModel",
      "_view_count": null,
      "_view_module": "@jupyter-widgets/base",
      "_view_module_version": "1.2.0",
      "_view_name": "LayoutView",
      "align_content": null,
      "align_items": null,
      "align_self": null,
      "border": null,
      "bottom": null,
      "display": null,
      "flex": null,
      "flex_flow": null,
      "grid_area": null,
      "grid_auto_columns": null,
      "grid_auto_flow": null,
      "grid_auto_rows": null,
      "grid_column": null,
      "grid_gap": null,
      "grid_row": null,
      "grid_template_areas": null,
      "grid_template_columns": null,
      "grid_template_rows": null,
      "height": null,
      "justify_content": null,
      "justify_items": null,
      "left": null,
      "margin": null,
      "max_height": null,
      "max_width": null,
      "min_height": null,
      "min_width": null,
      "object_fit": null,
      "object_position": null,
      "order": null,
      "overflow": null,
      "overflow_x": null,
      "overflow_y": null,
      "padding": null,
      "right": null,
      "top": null,
      "visibility": null,
      "width": null
     }
    },
    "32407a670ba8489ca7d83d5d31930b0d": {
     "model_module": "@jupyter-widgets/controls",
     "model_name": "ProgressStyleModel",
     "state": {
      "_model_module": "@jupyter-widgets/controls",
      "_model_module_version": "1.5.0",
      "_model_name": "ProgressStyleModel",
      "_view_count": null,
      "_view_module": "@jupyter-widgets/base",
      "_view_module_version": "1.2.0",
      "_view_name": "StyleView",
      "bar_color": null,
      "description_width": "initial"
     }
    },
    "5d76312634d34c98af06706b787b8626": {
     "model_module": "@jupyter-widgets/controls",
     "model_name": "DescriptionStyleModel",
     "state": {
      "_model_module": "@jupyter-widgets/controls",
      "_model_module_version": "1.5.0",
      "_model_name": "DescriptionStyleModel",
      "_view_count": null,
      "_view_module": "@jupyter-widgets/base",
      "_view_module_version": "1.2.0",
      "_view_name": "StyleView",
      "description_width": ""
     }
    },
    "641332430fdf40d28547b30c4c3a7e78": {
     "model_module": "@jupyter-widgets/controls",
     "model_name": "DescriptionStyleModel",
     "state": {
      "_model_module": "@jupyter-widgets/controls",
      "_model_module_version": "1.5.0",
      "_model_name": "DescriptionStyleModel",
      "_view_count": null,
      "_view_module": "@jupyter-widgets/base",
      "_view_module_version": "1.2.0",
      "_view_name": "StyleView",
      "description_width": ""
     }
    },
    "67b05356c93b47bda755183d81ed0a6a": {
     "model_module": "@jupyter-widgets/controls",
     "model_name": "HTMLModel",
     "state": {
      "_dom_classes": [],
      "_model_module": "@jupyter-widgets/controls",
      "_model_module_version": "1.5.0",
      "_model_name": "HTMLModel",
      "_view_count": null,
      "_view_module": "@jupyter-widgets/controls",
      "_view_module_version": "1.5.0",
      "_view_name": "HTMLView",
      "description": "",
      "description_tooltip": null,
      "layout": "IPY_MODEL_db206ee261304c6581e9223f6e1f8782",
      "placeholder": "​",
      "style": "IPY_MODEL_2baef0f52c4a4efdab407c61137e839a",
      "value": " 9920512/? [00:04&lt;00:00, 2308355.38it/s]"
     }
    },
    "6aee42d98a864fe9b2cd897a3b4eb90a": {
     "model_module": "@jupyter-widgets/base",
     "model_name": "LayoutModel",
     "state": {
      "_model_module": "@jupyter-widgets/base",
      "_model_module_version": "1.2.0",
      "_model_name": "LayoutModel",
      "_view_count": null,
      "_view_module": "@jupyter-widgets/base",
      "_view_module_version": "1.2.0",
      "_view_name": "LayoutView",
      "align_content": null,
      "align_items": null,
      "align_self": null,
      "border": null,
      "bottom": null,
      "display": null,
      "flex": null,
      "flex_flow": null,
      "grid_area": null,
      "grid_auto_columns": null,
      "grid_auto_flow": null,
      "grid_auto_rows": null,
      "grid_column": null,
      "grid_gap": null,
      "grid_row": null,
      "grid_template_areas": null,
      "grid_template_columns": null,
      "grid_template_rows": null,
      "height": null,
      "justify_content": null,
      "justify_items": null,
      "left": null,
      "margin": null,
      "max_height": null,
      "max_width": null,
      "min_height": null,
      "min_width": null,
      "object_fit": null,
      "object_position": null,
      "order": null,
      "overflow": null,
      "overflow_x": null,
      "overflow_y": null,
      "padding": null,
      "right": null,
      "top": null,
      "visibility": null,
      "width": null
     }
    },
    "6ea14b3d59d44fab980ba6454703ead9": {
     "model_module": "@jupyter-widgets/controls",
     "model_name": "FloatProgressModel",
     "state": {
      "_dom_classes": [],
      "_model_module": "@jupyter-widgets/controls",
      "_model_module_version": "1.5.0",
      "_model_name": "FloatProgressModel",
      "_view_count": null,
      "_view_module": "@jupyter-widgets/controls",
      "_view_module_version": "1.5.0",
      "_view_name": "ProgressView",
      "bar_style": "success",
      "description": "",
      "description_tooltip": null,
      "layout": "IPY_MODEL_965789ad0f484f619689005c6d361f8e",
      "max": 1,
      "min": 0,
      "orientation": "horizontal",
      "style": "IPY_MODEL_cad14b7943534fa49577d0b4674fdd22",
      "value": 1
     }
    },
    "8fab47df8a5346c7a3c183e50d1d085a": {
     "model_module": "@jupyter-widgets/base",
     "model_name": "LayoutModel",
     "state": {
      "_model_module": "@jupyter-widgets/base",
      "_model_module_version": "1.2.0",
      "_model_name": "LayoutModel",
      "_view_count": null,
      "_view_module": "@jupyter-widgets/base",
      "_view_module_version": "1.2.0",
      "_view_name": "LayoutView",
      "align_content": null,
      "align_items": null,
      "align_self": null,
      "border": null,
      "bottom": null,
      "display": null,
      "flex": null,
      "flex_flow": null,
      "grid_area": null,
      "grid_auto_columns": null,
      "grid_auto_flow": null,
      "grid_auto_rows": null,
      "grid_column": null,
      "grid_gap": null,
      "grid_row": null,
      "grid_template_areas": null,
      "grid_template_columns": null,
      "grid_template_rows": null,
      "height": null,
      "justify_content": null,
      "justify_items": null,
      "left": null,
      "margin": null,
      "max_height": null,
      "max_width": null,
      "min_height": null,
      "min_width": null,
      "object_fit": null,
      "object_position": null,
      "order": null,
      "overflow": null,
      "overflow_x": null,
      "overflow_y": null,
      "padding": null,
      "right": null,
      "top": null,
      "visibility": null,
      "width": null
     }
    },
    "965789ad0f484f619689005c6d361f8e": {
     "model_module": "@jupyter-widgets/base",
     "model_name": "LayoutModel",
     "state": {
      "_model_module": "@jupyter-widgets/base",
      "_model_module_version": "1.2.0",
      "_model_name": "LayoutModel",
      "_view_count": null,
      "_view_module": "@jupyter-widgets/base",
      "_view_module_version": "1.2.0",
      "_view_name": "LayoutView",
      "align_content": null,
      "align_items": null,
      "align_self": null,
      "border": null,
      "bottom": null,
      "display": null,
      "flex": null,
      "flex_flow": null,
      "grid_area": null,
      "grid_auto_columns": null,
      "grid_auto_flow": null,
      "grid_auto_rows": null,
      "grid_column": null,
      "grid_gap": null,
      "grid_row": null,
      "grid_template_areas": null,
      "grid_template_columns": null,
      "grid_template_rows": null,
      "height": null,
      "justify_content": null,
      "justify_items": null,
      "left": null,
      "margin": null,
      "max_height": null,
      "max_width": null,
      "min_height": null,
      "min_width": null,
      "object_fit": null,
      "object_position": null,
      "order": null,
      "overflow": null,
      "overflow_x": null,
      "overflow_y": null,
      "padding": null,
      "right": null,
      "top": null,
      "visibility": null,
      "width": null
     }
    },
    "adeeb111630a490383ca0a25a76c4345": {
     "model_module": "@jupyter-widgets/controls",
     "model_name": "ProgressStyleModel",
     "state": {
      "_model_module": "@jupyter-widgets/controls",
      "_model_module_version": "1.5.0",
      "_model_name": "ProgressStyleModel",
      "_view_count": null,
      "_view_module": "@jupyter-widgets/base",
      "_view_module_version": "1.2.0",
      "_view_name": "StyleView",
      "bar_color": null,
      "description_width": "initial"
     }
    },
    "b421ec9455504efab0b7c24171814d80": {
     "model_module": "@jupyter-widgets/base",
     "model_name": "LayoutModel",
     "state": {
      "_model_module": "@jupyter-widgets/base",
      "_model_module_version": "1.2.0",
      "_model_name": "LayoutModel",
      "_view_count": null,
      "_view_module": "@jupyter-widgets/base",
      "_view_module_version": "1.2.0",
      "_view_name": "LayoutView",
      "align_content": null,
      "align_items": null,
      "align_self": null,
      "border": null,
      "bottom": null,
      "display": null,
      "flex": null,
      "flex_flow": null,
      "grid_area": null,
      "grid_auto_columns": null,
      "grid_auto_flow": null,
      "grid_auto_rows": null,
      "grid_column": null,
      "grid_gap": null,
      "grid_row": null,
      "grid_template_areas": null,
      "grid_template_columns": null,
      "grid_template_rows": null,
      "height": null,
      "justify_content": null,
      "justify_items": null,
      "left": null,
      "margin": null,
      "max_height": null,
      "max_width": null,
      "min_height": null,
      "min_width": null,
      "object_fit": null,
      "object_position": null,
      "order": null,
      "overflow": null,
      "overflow_x": null,
      "overflow_y": null,
      "padding": null,
      "right": null,
      "top": null,
      "visibility": null,
      "width": null
     }
    },
    "ba6e1e27ad4740159c13eb52502b9c7b": {
     "model_module": "@jupyter-widgets/base",
     "model_name": "LayoutModel",
     "state": {
      "_model_module": "@jupyter-widgets/base",
      "_model_module_version": "1.2.0",
      "_model_name": "LayoutModel",
      "_view_count": null,
      "_view_module": "@jupyter-widgets/base",
      "_view_module_version": "1.2.0",
      "_view_name": "LayoutView",
      "align_content": null,
      "align_items": null,
      "align_self": null,
      "border": null,
      "bottom": null,
      "display": null,
      "flex": null,
      "flex_flow": null,
      "grid_area": null,
      "grid_auto_columns": null,
      "grid_auto_flow": null,
      "grid_auto_rows": null,
      "grid_column": null,
      "grid_gap": null,
      "grid_row": null,
      "grid_template_areas": null,
      "grid_template_columns": null,
      "grid_template_rows": null,
      "height": null,
      "justify_content": null,
      "justify_items": null,
      "left": null,
      "margin": null,
      "max_height": null,
      "max_width": null,
      "min_height": null,
      "min_width": null,
      "object_fit": null,
      "object_position": null,
      "order": null,
      "overflow": null,
      "overflow_x": null,
      "overflow_y": null,
      "padding": null,
      "right": null,
      "top": null,
      "visibility": null,
      "width": null
     }
    },
    "cad14b7943534fa49577d0b4674fdd22": {
     "model_module": "@jupyter-widgets/controls",
     "model_name": "ProgressStyleModel",
     "state": {
      "_model_module": "@jupyter-widgets/controls",
      "_model_module_version": "1.5.0",
      "_model_name": "ProgressStyleModel",
      "_view_count": null,
      "_view_module": "@jupyter-widgets/base",
      "_view_module_version": "1.2.0",
      "_view_name": "StyleView",
      "bar_color": null,
      "description_width": "initial"
     }
    },
    "d4a778bbc21d4955831f5c17f8411d9e": {
     "model_module": "@jupyter-widgets/base",
     "model_name": "LayoutModel",
     "state": {
      "_model_module": "@jupyter-widgets/base",
      "_model_module_version": "1.2.0",
      "_model_name": "LayoutModel",
      "_view_count": null,
      "_view_module": "@jupyter-widgets/base",
      "_view_module_version": "1.2.0",
      "_view_name": "LayoutView",
      "align_content": null,
      "align_items": null,
      "align_self": null,
      "border": null,
      "bottom": null,
      "display": null,
      "flex": null,
      "flex_flow": null,
      "grid_area": null,
      "grid_auto_columns": null,
      "grid_auto_flow": null,
      "grid_auto_rows": null,
      "grid_column": null,
      "grid_gap": null,
      "grid_row": null,
      "grid_template_areas": null,
      "grid_template_columns": null,
      "grid_template_rows": null,
      "height": null,
      "justify_content": null,
      "justify_items": null,
      "left": null,
      "margin": null,
      "max_height": null,
      "max_width": null,
      "min_height": null,
      "min_width": null,
      "object_fit": null,
      "object_position": null,
      "order": null,
      "overflow": null,
      "overflow_x": null,
      "overflow_y": null,
      "padding": null,
      "right": null,
      "top": null,
      "visibility": null,
      "width": null
     }
    },
    "db206ee261304c6581e9223f6e1f8782": {
     "model_module": "@jupyter-widgets/base",
     "model_name": "LayoutModel",
     "state": {
      "_model_module": "@jupyter-widgets/base",
      "_model_module_version": "1.2.0",
      "_model_name": "LayoutModel",
      "_view_count": null,
      "_view_module": "@jupyter-widgets/base",
      "_view_module_version": "1.2.0",
      "_view_name": "LayoutView",
      "align_content": null,
      "align_items": null,
      "align_self": null,
      "border": null,
      "bottom": null,
      "display": null,
      "flex": null,
      "flex_flow": null,
      "grid_area": null,
      "grid_auto_columns": null,
      "grid_auto_flow": null,
      "grid_auto_rows": null,
      "grid_column": null,
      "grid_gap": null,
      "grid_row": null,
      "grid_template_areas": null,
      "grid_template_columns": null,
      "grid_template_rows": null,
      "height": null,
      "justify_content": null,
      "justify_items": null,
      "left": null,
      "margin": null,
      "max_height": null,
      "max_width": null,
      "min_height": null,
      "min_width": null,
      "object_fit": null,
      "object_position": null,
      "order": null,
      "overflow": null,
      "overflow_x": null,
      "overflow_y": null,
      "padding": null,
      "right": null,
      "top": null,
      "visibility": null,
      "width": null
     }
    },
    "e60820d8ca1141309f4cc4de4a4ea139": {
     "model_module": "@jupyter-widgets/controls",
     "model_name": "HBoxModel",
     "state": {
      "_dom_classes": [],
      "_model_module": "@jupyter-widgets/controls",
      "_model_module_version": "1.5.0",
      "_model_name": "HBoxModel",
      "_view_count": null,
      "_view_module": "@jupyter-widgets/controls",
      "_view_module_version": "1.5.0",
      "_view_name": "HBoxView",
      "box_style": "",
      "children": [
       "IPY_MODEL_f3489831547c46ce82e90e01c60ba7b0",
       "IPY_MODEL_67b05356c93b47bda755183d81ed0a6a"
      ],
      "layout": "IPY_MODEL_31a3a0cc7dbc4234a46dd5e0db6cbc11"
     }
    },
    "f3489831547c46ce82e90e01c60ba7b0": {
     "model_module": "@jupyter-widgets/controls",
     "model_name": "FloatProgressModel",
     "state": {
      "_dom_classes": [],
      "_model_module": "@jupyter-widgets/controls",
      "_model_module_version": "1.5.0",
      "_model_name": "FloatProgressModel",
      "_view_count": null,
      "_view_module": "@jupyter-widgets/controls",
      "_view_module_version": "1.5.0",
      "_view_name": "ProgressView",
      "bar_style": "success",
      "description": "",
      "description_tooltip": null,
      "layout": "IPY_MODEL_2b0961b528dc47ae89e64bbd67ba9bf3",
      "max": 1,
      "min": 0,
      "orientation": "horizontal",
      "style": "IPY_MODEL_32407a670ba8489ca7d83d5d31930b0d",
      "value": 1
     }
    },
    "f640766a6ff849588c7ef1451efd8307": {
     "model_module": "@jupyter-widgets/controls",
     "model_name": "HTMLModel",
     "state": {
      "_dom_classes": [],
      "_model_module": "@jupyter-widgets/controls",
      "_model_module_version": "1.5.0",
      "_model_name": "HTMLModel",
      "_view_count": null,
      "_view_module": "@jupyter-widgets/controls",
      "_view_module_version": "1.5.0",
      "_view_name": "HTMLView",
      "description": "",
      "description_tooltip": null,
      "layout": "IPY_MODEL_8fab47df8a5346c7a3c183e50d1d085a",
      "placeholder": "​",
      "style": "IPY_MODEL_641332430fdf40d28547b30c4c3a7e78",
      "value": " 1654784/? [00:02&lt;00:00, 765581.78it/s]"
     }
    },
    "f8d5252d5bd947418bdcbb32fef56150": {
     "model_module": "@jupyter-widgets/base",
     "model_name": "LayoutModel",
     "state": {
      "_model_module": "@jupyter-widgets/base",
      "_model_module_version": "1.2.0",
      "_model_name": "LayoutModel",
      "_view_count": null,
      "_view_module": "@jupyter-widgets/base",
      "_view_module_version": "1.2.0",
      "_view_name": "LayoutView",
      "align_content": null,
      "align_items": null,
      "align_self": null,
      "border": null,
      "bottom": null,
      "display": null,
      "flex": null,
      "flex_flow": null,
      "grid_area": null,
      "grid_auto_columns": null,
      "grid_auto_flow": null,
      "grid_auto_rows": null,
      "grid_column": null,
      "grid_gap": null,
      "grid_row": null,
      "grid_template_areas": null,
      "grid_template_columns": null,
      "grid_template_rows": null,
      "height": null,
      "justify_content": null,
      "justify_items": null,
      "left": null,
      "margin": null,
      "max_height": null,
      "max_width": null,
      "min_height": null,
      "min_width": null,
      "object_fit": null,
      "object_position": null,
      "order": null,
      "overflow": null,
      "overflow_x": null,
      "overflow_y": null,
      "padding": null,
      "right": null,
      "top": null,
      "visibility": null,
      "width": null
     }
    },
    "f9a60d7629d04429ac0aa551de204ef1": {
     "model_module": "@jupyter-widgets/controls",
     "model_name": "FloatProgressModel",
     "state": {
      "_dom_classes": [],
      "_model_module": "@jupyter-widgets/controls",
      "_model_module_version": "1.5.0",
      "_model_name": "FloatProgressModel",
      "_view_count": null,
      "_view_module": "@jupyter-widgets/controls",
      "_view_module_version": "1.5.0",
      "_view_name": "ProgressView",
      "bar_style": "success",
      "description": "",
      "description_tooltip": null,
      "layout": "IPY_MODEL_ba6e1e27ad4740159c13eb52502b9c7b",
      "max": 1,
      "min": 0,
      "orientation": "horizontal",
      "style": "IPY_MODEL_adeeb111630a490383ca0a25a76c4345",
      "value": 1
     }
    }
   }
  }
 },
 "nbformat": 4,
 "nbformat_minor": 1
}
